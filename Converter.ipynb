{
 "cells": [
  {
   "cell_type": "code",
   "execution_count": null,
   "metadata": {},
   "outputs": [],
   "source": [
    "import pandas as pd\n",
    "import os"
   ]
  },
  {
   "cell_type": "code",
   "execution_count": null,
   "metadata": {},
   "outputs": [],
   "source": [
    "meta_df = pd.read_csv('story_meta.csv', encoding=\"utf-8\")"
   ]
  },
  {
   "cell_type": "code",
   "execution_count": null,
   "metadata": {},
   "outputs": [],
   "source": [
    "# Get Aggregated DataFrame of Questions\n",
    "# Params:\n",
    "# - origins (list of strings): story origins to filter by\n",
    "# - split (string): filter by train, test, or validation splits\n",
    "# Returns:\n",
    "# A single pd.DataFrame with the aggregate questions\n",
    "\n",
    "def get_question_df(origins=[], split=\"\"):\n",
    "  if split not in [\"\", \"train\", \"test\", \"val\"]:\n",
    "    print('Incorrect split argument: expected \"train\", \"test\", \"val\", or default empty string.')\n",
    "    return\n",
    "\n",
    "  if split == \"\":\n",
    "    filtered_meta = meta_df\n",
    "  else:\n",
    "    filtered_meta = meta_df[meta_df['split'] == split]\n",
    "\n",
    "  if len(origins) != 0:\n",
    "    filtered_meta = meta_df[meta_df['origin'].isin(origins)]\n",
    "\n",
    "  def get_q_file(row):\n",
    "    df = pd.read_csv('data-by-train-split/questions/' + row[1] + '/' + row[0] + '-questions.csv')\n",
    "    df['filename'] = row[0] + '-questions.csv'\n",
    "    df['split'] = row[1]\n",
    "    df['origin'] = row[2]\n",
    "    return df\n",
    "\n",
    "  qdfs = [ get_q_file(row)\n",
    "    for row in zip(filtered_meta['filename'].to_list(), filtered_meta['split'].to_list(), filtered_meta['origin'].to_list())\n",
    "  ]\n",
    "\n",
    "  return pd.concat(qdfs, ignore_index=True)"
   ]
  },
  {
   "cell_type": "code",
   "execution_count": null,
   "metadata": {},
   "outputs": [],
   "source": [
    "# Get Aggregated DataFrame of Questions\n",
    "# Params:\n",
    "# - origins (list of strings): story origins to filter by\n",
    "# - split (string): filter by train, test, or validation splits\n",
    "# - sent_level (boolean): if true, return sentence-level stories, and else return section-level stories\n",
    "# Returns:\n",
    "# A single pd.DataFrame with the aggregate story sections or sentences\n",
    "\n",
    "def get_story_df(origins=[], split=\"\", sent_level=False):\n",
    "  if split not in [\"\", \"train\", \"test\", \"val\"]:\n",
    "    print('Incorrect split argument: expected \"train\", \"test\", \"val\", or default empty string.')\n",
    "    return\n",
    "\n",
    "  if split == \"\":\n",
    "    filtered_meta = meta_df\n",
    "  else:\n",
    "    filtered_meta = meta_df[meta_df['split'] == split]\n",
    "\n",
    "  if len(origins) != 0:\n",
    "    filtered_meta = meta_df[meta_df['origin'].isin(origins)]\n",
    "\n",
    "  def get_s_file(row):\n",
    "    file_str = 'data-by-train-split/'\n",
    "    if sent_level:\n",
    "      file_str += 'sentence-stories/'\n",
    "    else:\n",
    "      file_str += 'section-stories/'\n",
    "    \n",
    "    file_str += row[1] + '/' + row[0] + '-story.csv'\n",
    "\n",
    "    df = pd.read_csv(file_str)\n",
    "    df['filename'] = row[0] + '-questions.csv'\n",
    "    df['split'] = row[1]\n",
    "    df['origin'] = row[2]\n",
    "    return df\n",
    "\n",
    "  sdfs = [ get_s_file(row)\n",
    "    for row in zip(filtered_meta['filename'].to_list(), filtered_meta['split'].to_list(), filtered_meta['origin'].to_list())\n",
    "  ]\n",
    "\n",
    "  return pd.concat(sdfs, ignore_index=True)"
   ]
  },
  {
   "cell_type": "code",
   "execution_count": null,
   "metadata": {},
   "outputs": [],
   "source": [
    "story_df = get_story_df()\n",
    "story_df"
   ]
  },
  {
   "cell_type": "code",
   "execution_count": null,
   "metadata": {},
   "outputs": [],
   "source": [
    "story_df.info()"
   ]
  },
  {
   "cell_type": "code",
   "execution_count": null,
   "metadata": {},
   "outputs": [],
   "source": [
    "story_df = story_df.convert_dtypes()\n",
    "story_df.info()"
   ]
  },
  {
   "cell_type": "code",
   "execution_count": null,
   "metadata": {},
   "outputs": [],
   "source": [
    "qa_df = get_question_df()\n",
    "qa_df.head()"
   ]
  },
  {
   "cell_type": "code",
   "execution_count": null,
   "metadata": {},
   "outputs": [],
   "source": [
    "qa_df.info()"
   ]
  },
  {
   "cell_type": "code",
   "execution_count": null,
   "metadata": {},
   "outputs": [],
   "source": [
    "qa_df['cor_section'] = qa_df['cor_section'].astype('str')"
   ]
  },
  {
   "cell_type": "code",
   "execution_count": null,
   "metadata": {},
   "outputs": [],
   "source": [
    "qa_df = qa_df.convert_dtypes()\n",
    "qa_df.info()"
   ]
  },
  {
   "cell_type": "code",
   "execution_count": null,
   "metadata": {},
   "outputs": [],
   "source": [
    "train_data = []\n",
    "train_contexts_data = []\n",
    " \n",
    "for i, context in enumerate(train_contexts):\n",
    "    qas = []\n",
    "    for qa in train_questions_answers:\n",
    "        if qa[\"context_index\"] == i:\n",
    "            answer_start = context.find(qa[\"answer\"])\n",
    "            if answer_start != -1:\n",
    "                qas.append({\n",
    "                    \"id\": str(len(qas) + 1).zfill(5),\n",
    "                    \"is_impossible\": False,\n",
    "                    \"question\": qa[\"question\"],\n",
    "                    \"answers\": [\n",
    "                        {\n",
    "                            \"text\": qa[\"answer\"],\n",
    "                            \"answer_start\": answer_start,\n",
    "                        }\n",
    "                    ],\n",
    "                })\n",
    "    train_contexts_data.append({\n",
    "        \"context\": context,\n",
    "        \"qas\": qas,\n",
    "    })\n",
    " \n",
    "train_data.extend(train_contexts_data)"
   ]
  },
  {
   "cell_type": "code",
   "execution_count": null,
   "metadata": {},
   "outputs": [],
   "source": [
    "output = open(\"temp.jsonl\",\"w\")\n",
    "index = 23\n",
    "row_qa = qa_df.iloc[23]\n",
    "filename = row_qa[\"filename\"]\n",
    "context_list = list(map(int, row_qa[\"cor_section\"].split(',')))\n",
    "rows = story_df[(story_df[\"filename\"] == filename) & (story_df[\"section\"].isin(context_list))]\n",
    "context = \" \".join(rows[\"text\"])\n",
    "question = row_qa[\"question\"]\n",
    "\n",
    "for i in range(1,6):\n",
    "    count = \"answer\"+str(i)\n",
    "    if pd.isna(row_qa[count]):\n",
    "        continue\n",
    "    answer = row_qa[count]\n",
    "    output.write(f\"{{\\\"id\\\": \\\"{index}_{i}\\\", \\\"context\\\": \\\"{context}\\\", \\\"question\\\": \\\"{question}\\\", \\\"answer\\\": \\\"{answer}\\\"}}\\n\")"
   ]
  },
  {
   "cell_type": "code",
   "execution_count": null,
   "metadata": {},
   "outputs": [],
   "source": [
    "output = open(\"qa.jsonl\",\"w\")\n",
    "\n",
    "\n",
    "for index, row_qa in qa_df.iterrows():\n",
    "    data = {}\n",
    "    filename = row_qa[\"filename\"]\n",
    "    context_list = list(map(int, row_qa[\"cor_section\"].split(',')))    \n",
    "    rows = story_df[(story_df[\"filename\"] == filename) & (story_df[\"section\"].isin(context_list))]\n",
    "    context = \" \".join(rows[\"text\"]).replace(\"\\\"\", \"\\\\\\\"\")\n",
    "    context = ' '.join(context.splitlines())\n",
    "    question = row_qa[\"question\"].replace(\"\\\"\", \"\\\\\\\"\")\n",
    "    question = ' '.join(question.splitlines())\n",
    "    for i in range(1,6):\n",
    "        count = \"answer\"+str(i)\n",
    "        if pd.isna(row_qa[count]):\n",
    "            continue\n",
    "        answer = row_qa[count].replace(\"\\\"\", \"\\\\\\\"\")\n",
    "        answer = ' '.join(answer.splitlines())\n",
    "        output.write(f\"{{\\\"id\\\": \\\"{index}_{i}\\\", \\\"context\\\": \\\"{context}\\\", \\\"question\\\": \\\"{question}\\\", \\\"answer\\\": \\\"{answer}\\\"}}\\n\")"
   ]
  }
 ],
 "metadata": {
  "kernelspec": {
   "display_name": "Python 3",
   "language": "python",
   "name": "python3"
  },
  "language_info": {
   "codemirror_mode": {
    "name": "ipython",
    "version": 3
   },
   "file_extension": ".py",
   "mimetype": "text/x-python",
   "name": "python",
   "nbconvert_exporter": "python",
   "pygments_lexer": "ipython3",
   "version": "3.13.2"
  }
 },
 "nbformat": 4,
 "nbformat_minor": 2
}
